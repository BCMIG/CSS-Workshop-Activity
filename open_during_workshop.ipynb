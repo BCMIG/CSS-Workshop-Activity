{
 "cells": [
  {
   "cell_type": "markdown",
   "id": "521f48eb-a0a6-4d87-ad0d-e8e048459b06",
   "metadata": {},
   "source": [
    "### Machine Learning Group Workshop\n",
    "#### Topic: Sentiment Analysis"
   ]
  },
  {
   "cell_type": "markdown",
   "id": "27e53b60-acf9-4886-866d-f8cfd6ef34d4",
   "metadata": {},
   "source": [
    "#### What libraries are we using?"
   ]
  },
  {
   "cell_type": "code",
   "execution_count": 52,
   "id": "af3a8b89-1760-4624-b182-22413b08721b",
   "metadata": {},
   "outputs": [],
   "source": [
    "import pandas as pd  # Handle and manipulate tabular data (e.g., reading datasets, organizing data)\n",
    "import numpy as np  # Support for numerical operations, array manipulations, and handling missing values\n",
    "\n",
    "# Scikit-learn modules for feature extraction, model building, and evaluation\n",
    "from sklearn.feature_extraction.text import TfidfVectorizer  # Convert text data into numerical vectors (TF-IDF)\n",
    "from sklearn.linear_model import LogisticRegression  # Build a classification model (Logistic Regression)\n",
    "from sklearn.model_selection import train_test_split  # Split data into training and testing sets\n",
    "from sklearn.metrics import accuracy_score, classification_report, confusion_matrix  # Evaluate the model and display metrics"
   ]
  },
  {
   "cell_type": "markdown",
   "id": "f3ba0ff6-6bc2-41f4-a5bc-6702c8524228",
   "metadata": {},
   "source": [
    "##### Step One: Load our data"
   ]
  },
  {
   "cell_type": "code",
   "execution_count": 32,
   "id": "397e7f6c-1045-4b29-b158-bb34cb6fdeed",
   "metadata": {},
   "outputs": [],
   "source": [
   
   ]
  },
  {
   "cell_type": "markdown",
   "id": "96c5b46d-8fc4-4645-b994-0489da889d79",
   "metadata": {},
   "source": [
    "##### Step Two: Define our targets and features"
   ]
  },
  {
   "cell_type": "code",
   "execution_count": 35,
   "id": "8f3c90b3-18ba-47f2-91c4-a752aa21b286",
   "metadata": {},
   "outputs": [],
   "source": [
    
   ]
  },
  {
   "cell_type": "markdown",
   "id": "3756b6a5-dff0-449c-b555-0cb4e404b322",
   "metadata": {},
   "source": [
    "##### Step Three: Preprocess text data"
   ]
  },
  {
   "cell_type": "code",
   "execution_count": 38,
   "id": "00fe13ba-5b4b-4497-bc40-1f539e1253fc",
   "metadata": {},
   "outputs": [],
   "source": [
    "# Initialize TF-IDF Vectorizer\n",
    
   ]
  },
  {
   "cell_type": "markdown",
   "id": "f22ccae4-62a1-464d-a08c-fa7238df9327",
   "metadata": {},
   "source": [
    "##### Step Four: Build and train the model"
   ]
  },
  {
   "cell_type": "code",
   "execution_count": 41,
   "id": "b47dea9b-290c-434e-8603-2d0762b01405",
   "metadata": {},
   "outputs": [
    {
     "data": {
      "text/html": [
       "<style>#sk-container-id-1 {color: black;background-color: white;}#sk-container-id-1 pre{padding: 0;}#sk-container-id-1 div.sk-toggleable {background-color: white;}#sk-container-id-1 label.sk-toggleable__label {cursor: pointer;display: block;width: 100%;margin-bottom: 0;padding: 0.3em;box-sizing: border-box;text-align: center;}#sk-container-id-1 label.sk-toggleable__label-arrow:before {content: \"▸\";float: left;margin-right: 0.25em;color: #696969;}#sk-container-id-1 label.sk-toggleable__label-arrow:hover:before {color: black;}#sk-container-id-1 div.sk-estimator:hover label.sk-toggleable__label-arrow:before {color: black;}#sk-container-id-1 div.sk-toggleable__content {max-height: 0;max-width: 0;overflow: hidden;text-align: left;background-color: #f0f8ff;}#sk-container-id-1 div.sk-toggleable__content pre {margin: 0.2em;color: black;border-radius: 0.25em;background-color: #f0f8ff;}#sk-container-id-1 input.sk-toggleable__control:checked~div.sk-toggleable__content {max-height: 200px;max-width: 100%;overflow: auto;}#sk-container-id-1 input.sk-toggleable__control:checked~label.sk-toggleable__label-arrow:before {content: \"▾\";}#sk-container-id-1 div.sk-estimator input.sk-toggleable__control:checked~label.sk-toggleable__label {background-color: #d4ebff;}#sk-container-id-1 div.sk-label input.sk-toggleable__control:checked~label.sk-toggleable__label {background-color: #d4ebff;}#sk-container-id-1 input.sk-hidden--visually {border: 0;clip: rect(1px 1px 1px 1px);clip: rect(1px, 1px, 1px, 1px);height: 1px;margin: -1px;overflow: hidden;padding: 0;position: absolute;width: 1px;}#sk-container-id-1 div.sk-estimator {font-family: monospace;background-color: #f0f8ff;border: 1px dotted black;border-radius: 0.25em;box-sizing: border-box;margin-bottom: 0.5em;}#sk-container-id-1 div.sk-estimator:hover {background-color: #d4ebff;}#sk-container-id-1 div.sk-parallel-item::after {content: \"\";width: 100%;border-bottom: 1px solid gray;flex-grow: 1;}#sk-container-id-1 div.sk-label:hover label.sk-toggleable__label {background-color: #d4ebff;}#sk-container-id-1 div.sk-serial::before {content: \"\";position: absolute;border-left: 1px solid gray;box-sizing: border-box;top: 0;bottom: 0;left: 50%;z-index: 0;}#sk-container-id-1 div.sk-serial {display: flex;flex-direction: column;align-items: center;background-color: white;padding-right: 0.2em;padding-left: 0.2em;position: relative;}#sk-container-id-1 div.sk-item {position: relative;z-index: 1;}#sk-container-id-1 div.sk-parallel {display: flex;align-items: stretch;justify-content: center;background-color: white;position: relative;}#sk-container-id-1 div.sk-item::before, #sk-container-id-1 div.sk-parallel-item::before {content: \"\";position: absolute;border-left: 1px solid gray;box-sizing: border-box;top: 0;bottom: 0;left: 50%;z-index: -1;}#sk-container-id-1 div.sk-parallel-item {display: flex;flex-direction: column;z-index: 1;position: relative;background-color: white;}#sk-container-id-1 div.sk-parallel-item:first-child::after {align-self: flex-end;width: 50%;}#sk-container-id-1 div.sk-parallel-item:last-child::after {align-self: flex-start;width: 50%;}#sk-container-id-1 div.sk-parallel-item:only-child::after {width: 0;}#sk-container-id-1 div.sk-dashed-wrapped {border: 1px dashed gray;margin: 0 0.4em 0.5em 0.4em;box-sizing: border-box;padding-bottom: 0.4em;background-color: white;}#sk-container-id-1 div.sk-label label {font-family: monospace;font-weight: bold;display: inline-block;line-height: 1.2em;}#sk-container-id-1 div.sk-label-container {text-align: center;}#sk-container-id-1 div.sk-container {/* jupyter's `normalize.less` sets `[hidden] { display: none; }` but bootstrap.min.css set `[hidden] { display: none !important; }` so we also need the `!important` here to be able to override the default hidden behavior on the sphinx rendered scikit-learn.org. See: https://github.com/scikit-learn/scikit-learn/issues/21755 */display: inline-block !important;position: relative;}#sk-container-id-1 div.sk-text-repr-fallback {display: none;}</style><div id=\"sk-container-id-1\" class=\"sk-top-container\"><div class=\"sk-text-repr-fallback\"><pre>LogisticRegression(max_iter=200)</pre><b>In a Jupyter environment, please rerun this cell to show the HTML representation or trust the notebook. <br />On GitHub, the HTML representation is unable to render, please try loading this page with nbviewer.org.</b></div><div class=\"sk-container\" hidden><div class=\"sk-item\"><div class=\"sk-estimator sk-toggleable\"><input class=\"sk-toggleable__control sk-hidden--visually\" id=\"sk-estimator-id-1\" type=\"checkbox\" checked><label for=\"sk-estimator-id-1\" class=\"sk-toggleable__label sk-toggleable__label-arrow\">LogisticRegression</label><div class=\"sk-toggleable__content\"><pre>LogisticRegression(max_iter=200)</pre></div></div></div></div></div>"
      ],
      "text/plain": [
       "LogisticRegression(max_iter=200)"
      ]
     },
     "execution_count": 41,
     "metadata": {},
     "output_type": "execute_result"
    }
   ],
   "source": [
    "# Initialize the Logistic Regression model\n",
    "\n",
    "# Train the model using the training data\n",
   ]
  },
  {
   "cell_type": "markdown",
   "id": "9c8ebc25-39ff-42cc-be60-a50e16ed3cab",
   "metadata": {},
   "source": [
    "##### Step Five: Make predictions and evaluate how accurate our model is!"
   ]
  },
  {
   "cell_type": "code",
   "execution_count": 46,
   "id": "85c7a4fd-d6f8-4764-a2d4-886f107a3587",
   "metadata": {},
   "outputs": [
    {
     "name": "stdout",
     "output_type": "stream",
     "text": [
      "Accuracy: 0.7105263157894737\n",
      "Classification Report:\n",
      "               precision    recall  f1-score   support\n",
      "\n",
      "    negative       0.73      0.64      0.68      1001\n",
      "     neutral       0.64      0.76      0.70      1430\n",
      "    positive       0.81      0.71      0.76      1103\n",
      "\n",
      "    accuracy                           0.71      3534\n",
      "   macro avg       0.73      0.70      0.71      3534\n",
      "weighted avg       0.72      0.71      0.71      3534\n",
      "\n"
     ]
    }
   ],
   "source": [
    "# Predict sentiment labels for the test data\n",
    "y_pred = model.predict(X_test_tfidf)\n",
    "\n",
    "# Calculate accuracy and display a classification report\n",
    "print(\"Accuracy:\", accuracy_score(y_test, y_pred))\n",
    "print(\"Classification Report:\\n\", classification_report(y_test, y_pred))"
   ]
  },
  {
   "cell_type": "markdown",
   "id": "7741bc35-a9c7-4d34-a114-a0f128fec285",
   "metadata": {},
   "source": [
    "#### Step Six: Look at the results!"
   ]
  },
  {
   "cell_type": "code",
   "execution_count": 57,
   "id": "e64e0e85-5b73-453c-894f-058d2813f08c",
   "metadata": {},
   "outputs": [
    {
     "name": "stdout",
     "output_type": "stream",
     "text": [
      "\n",
      "Classification Report:\n"
     ]
    },
    {
     "data": {
      "text/html": [
       "<div>\n",
       "<style scoped>\n",
       "    .dataframe tbody tr th:only-of-type {\n",
       "        vertical-align: middle;\n",
       "    }\n",
       "\n",
       "    .dataframe tbody tr th {\n",
       "        vertical-align: top;\n",
       "    }\n",
       "\n",
       "    .dataframe thead th {\n",
       "        text-align: right;\n",
       "    }\n",
       "</style>\n",
       "<table border=\"1\" class=\"dataframe\">\n",
       "  <thead>\n",
       "    <tr style=\"text-align: right;\">\n",
       "      <th></th>\n",
       "      <th>precision</th>\n",
       "      <th>recall</th>\n",
       "      <th>f1-score</th>\n",
       "      <th>support</th>\n",
       "    </tr>\n",
       "  </thead>\n",
       "  <tbody>\n",
       "    <tr>\n",
       "      <th>negative</th>\n",
       "      <td>0.732798</td>\n",
       "      <td>0.638362</td>\n",
       "      <td>0.682328</td>\n",
       "      <td>1001.000000</td>\n",
       "    </tr>\n",
       "    <tr>\n",
       "      <th>neutral</th>\n",
       "      <td>0.642857</td>\n",
       "      <td>0.761538</td>\n",
       "      <td>0.697183</td>\n",
       "      <td>1430.000000</td>\n",
       "    </tr>\n",
       "    <tr>\n",
       "      <th>positive</th>\n",
       "      <td>0.808884</td>\n",
       "      <td>0.709882</td>\n",
       "      <td>0.756156</td>\n",
       "      <td>1103.000000</td>\n",
       "    </tr>\n",
       "    <tr>\n",
       "      <th>accuracy</th>\n",
       "      <td>0.710526</td>\n",
       "      <td>0.710526</td>\n",
       "      <td>0.710526</td>\n",
       "      <td>0.710526</td>\n",
       "    </tr>\n",
       "    <tr>\n",
       "      <th>macro avg</th>\n",
       "      <td>0.728180</td>\n",
       "      <td>0.703261</td>\n",
       "      <td>0.711889</td>\n",
       "      <td>3534.000000</td>\n",
       "    </tr>\n",
       "    <tr>\n",
       "      <th>weighted avg</th>\n",
       "      <td>0.720152</td>\n",
       "      <td>0.710526</td>\n",
       "      <td>0.711382</td>\n",
       "      <td>3534.000000</td>\n",
       "    </tr>\n",
       "  </tbody>\n",
       "</table>\n",
       "</div>"
      ],
      "text/plain": [
       "              precision    recall  f1-score      support\n",
       "negative       0.732798  0.638362  0.682328  1001.000000\n",
       "neutral        0.642857  0.761538  0.697183  1430.000000\n",
       "positive       0.808884  0.709882  0.756156  1103.000000\n",
       "accuracy       0.710526  0.710526  0.710526     0.710526\n",
       "macro avg      0.728180  0.703261  0.711889  3534.000000\n",
       "weighted avg   0.720152  0.710526  0.711382  3534.000000"
      ]
     },
     "metadata": {},
     "output_type": "display_data"
    },
    {
     "name": "stdout",
     "output_type": "stream",
     "text": [
      "\n",
      "Confusion Matrix:\n"
     ]
    },
    {
     "data": {
      "text/html": [
       "<div>\n",
       "<style scoped>\n",
       "    .dataframe tbody tr th:only-of-type {\n",
       "        vertical-align: middle;\n",
       "    }\n",
       "\n",
       "    .dataframe tbody tr th {\n",
       "        vertical-align: top;\n",
       "    }\n",
       "\n",
       "    .dataframe thead th {\n",
       "        text-align: right;\n",
       "    }\n",
       "</style>\n",
       "<table border=\"1\" class=\"dataframe\">\n",
       "  <thead>\n",
       "    <tr style=\"text-align: right;\">\n",
       "      <th></th>\n",
       "      <th>Negative (0)</th>\n",
       "      <th>Neutral (2)</th>\n",
       "      <th>Positive (4)</th>\n",
       "    </tr>\n",
       "  </thead>\n",
       "  <tbody>\n",
       "    <tr>\n",
       "      <th>Negative (0)</th>\n",
       "      <td>639</td>\n",
       "      <td>330</td>\n",
       "      <td>32</td>\n",
       "    </tr>\n",
       "    <tr>\n",
       "      <th>Neutral (2)</th>\n",
       "      <td>188</td>\n",
       "      <td>1089</td>\n",
       "      <td>153</td>\n",
       "    </tr>\n",
       "    <tr>\n",
       "      <th>Positive (4)</th>\n",
       "      <td>45</td>\n",
       "      <td>275</td>\n",
       "      <td>783</td>\n",
       "    </tr>\n",
       "  </tbody>\n",
       "</table>\n",
       "</div>"
      ],
      "text/plain": [
       "              Negative (0)  Neutral (2)  Positive (4)\n",
       "Negative (0)           639          330            32\n",
       "Neutral (2)            188         1089           153\n",
       "Positive (4)            45          275           783"
      ]
     },
     "metadata": {},
     "output_type": "display_data"
    }
   ],
   "source": [
    "class_report = classification_report(y_test, y_pred, output_dict=True)\n",
    "\n",
    "report_df = pd.DataFrame(class_report).transpose()\n",
    "\n",
    "# Display the report as a table\n",
    "print(\"\\nClassification Report:\")\n",
    "display(report_df)\n",
    "\n",
    "# Display the confusion matrix in a readable format\n",
    "conf_matrix = confusion_matrix(y_test, y_pred)\n",
    "conf_matrix_df = pd.DataFrame(conf_matrix, \n",
    "                              index=['Negative (0)', 'Neutral (2)', 'Positive (4)'],\n",
    "                              columns=['Negative (0)', 'Neutral (2)', 'Positive (4)'])\n",
    "\n",
    "print(\"\\nConfusion Matrix:\")\n",
    "display(conf_matrix_df)"
   ]
  },
  {
   "cell_type": "code",
   "execution_count": 59,
   "id": "def3e073-a6ad-4a1c-8ed8-8a96cbc59088",
   "metadata": {},
   "outputs": [
    {
     "name": "stdout",
     "output_type": "stream",
     "text": [
      "\n",
      "🎉 Congratulations! 🎉 You've successfully built and evaluated your sentiment analysis model! 🥳\n",
      "Great job! Keep exploring and refining your model. Every step you take brings you closer to mastering machine learning. 🚀\n"
     ]
    }
   ],
   "source": [
    "print(\"\\n🎉 Congratulations! 🎉 You've successfully built and evaluated your sentiment analysis model! 🥳\")\n",
    "print(\"Keep exploring and refining your model. Every step you take brings you closer to mastering machine learning. 🚀\")"
   ]
  },
  {
   "cell_type": "code",
   "execution_count": null,
   "id": "aec4f4ab-3b7a-4ea8-8eee-70733ee63512",
   "metadata": {},
   "outputs": [],
   "source": [
    "# Here are some resources we reccomend!\n",
    "# https://scikit-learn.org/0.21/documentation.html\n",
    "# https://www.coursera.org/learn/classification-vector-spaces-in-nlp\n",
    "# https://www.amazon.com/Hands-Machine-Learning-Scikit-Learn-TensorFlow/dp/1492032646"
   ]
  }
 ],
 "metadata": {
  "kernelspec": {
   "display_name": "Python 3 (ipykernel)",
   "language": "python",
   "name": "python3"
  },
  "language_info": {
   "codemirror_mode": {
    "name": "ipython",
    "version": 3
   },
   "file_extension": ".py",
   "mimetype": "text/x-python",
   "name": "python",
   "nbconvert_exporter": "python",
   "pygments_lexer": "ipython3",
   "version": "3.11.7"
  }
 },
 "nbformat": 4,
 "nbformat_minor": 5
}

