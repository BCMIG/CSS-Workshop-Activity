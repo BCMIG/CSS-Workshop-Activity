{
 "cells": [
  {
   "cell_type": "markdown",
   "id": "521f48eb-a0a6-4d87-ad0d-e8e048459b06",
   "metadata": {},
   "source": [
    "### Machine Learning Group Workshop\n",
    "#### Topic: Sentiment Analysis"
   ]
  },
  {
   "cell_type": "markdown",
   "id": "27e53b60-acf9-4886-866d-f8cfd6ef34d4",
   "metadata": {},
   "source": [
    "#### What libraries are we using?"
   ]
  },
  {
   "cell_type": "code",
   "execution_count": 52,
   "id": "af3a8b89-1760-4624-b182-22413b08721b",
   "metadata": {},
   "outputs": [],
   "source": [
    "import pandas as pd  # Handle and manipulate tabular data (e.g., reading datasets, organizing data)\n",
    "import numpy as np  # Support for numerical operations, array manipulations, and handling missing values\n",
    "\n",
    "# Scikit-learn modules for feature extraction, model building, and evaluation\n",
    "from sklearn.feature_extraction.text import TfidfVectorizer  # Convert text data into numerical vectors (TF-IDF)\n",
    "from sklearn.linear_model import LogisticRegression  # Build a classification model (Logistic Regression)\n",
    "from sklearn.model_selection import train_test_split  # Split data into training and testing sets\n",
    "from sklearn.metrics import accuracy_score, classification_report, confusion_matrix  # Evaluate the model and display metrics"
   ]
  },
  {
   "cell_type": "markdown",
   "id": "f3ba0ff6-6bc2-41f4-a5bc-6702c8524228",
   "metadata": {},
   "source": [
    "##### Step One: Load our data"
   ]
  },
  {
   "cell_type": "code",
   "execution_count": 32,
   "id": "397e7f6c-1045-4b29-b158-bb34cb6fdeed",
   "metadata": {},
   "outputs": [],
   "source": [
    "# Load the dataset\n",
    "data = pd.read_csv('path_to_dataset.csv')\n",
    "data.head()"
   ]
  },
  {
   "cell_type": "markdown",
   "id": "96c5b46d-8fc4-4645-b994-0489da889d79",
   "metadata": {},
   "source": [
    "##### Step Two: Define our targets and features"
   ]
  },
  {
   "cell_type": "code",
   "execution_count": 35,
   "id": "8f3c90b3-18ba-47f2-91c4-a752aa21b286",
   "metadata": {},
   "outputs": [],
   "source": [
    "# Define features and target variables\n",
    "X = data['text_column']  # Replace with the name of the text column in your dataset\n",
    "y = data['sentiment_column']  # Replace with the name of the sentiment column in your dataset"
   ]
  },
  {
   "cell_type": "markdown",
   "id": "3756b6a5-dff0-449c-b555-0cb4e404b322",
   "metadata": {},
   "source": [
    "##### Step Three: Preprocess text data"
   ]
  },
  {
   "cell_type": "code",
   "execution_count": 38,
   "id": "00fe13ba-5b4b-4497-bc40-1f539e1253fc",
   "metadata": {},
   "outputs": [],
   "source": [
    "# Initialize TF-IDF Vectorizer\n",
    "vectorizer = TfidfVectorizer()\n",
    "X_tfidf = vectorizer.fit_transform(X)"
   ]
  },
  {
   "cell_type": "markdown",
   "id": "f22ccae4-62a1-464d-a08c-fa7238df9327",
   "metadata": {},
   "source": [
    "##### Step Four: Build and train the model"
   ]
  },
  {
   "cell_type": "code",
   "execution_count": 41,
   "id": "b47dea9b-290c-434e-8603-2d0762b01405",
   "metadata": {},
   "outputs": [
    {
     "data": {
      "text/html": [
       "<style>#sk-container-id-1 {color: black;background-color: white;}...</style><div>...</div>"
      ],
      "text/plain": [
       "LogisticRegression(max_iter=200)"
      ]
     },
     "execution_count": 41,
     "metadata": {},
     "output_type": "execute_result"
    }
   ],
   "source": [
    "# Initialize the Logistic Regression model\n",
    "model = LogisticRegression(max_iter=200)\n",
    "\n",
    "# Train the model using the training data\n",
    "X_train, X_test, y_train, y_test = train_test_split(X_tfidf, y, test_size=0.3, random_state=42)\n",
    "model.fit(X_train, y_train)"
   ]
  },
  {
   "cell_type": "markdown",
   "id": "9c8ebc25-39ff-42cc-be60-a50e16ed3cab",
   "metadata": {},
   "source": [
    "##### Step Five: Make predictions and evaluate how accurate our model is!"
   ]
  },
  {
   "cell_type": "code",
   "execution_count": 46,
   "id": "85c7a4fd-d6f8-4764-a2d4-886f107a3587",
   "metadata": {},
   "outputs": [
    {
     "name": "stdout",
     "output_type": "stream",
     "text": [
      "Accuracy: 0.7105263157894737\n",
      "Classification Report:\n",
      "               precision    recall  f1-score   support\n",
      "\n",
      "    negative       0.73      0.64      0.68      1001\n",
      "     neutral       0.64      0.76      0.70      1430\n",
      "    positive       0.81      0.71      0.76      1103\n",
      "\n",
      "    accuracy                           0.71      3534\n",
      "   macro avg       0.73      0.70      0.71      3534\n",
      "weighted avg       0.72      0.71      0.71      3534\n",
      "\n"
     ]
    }
   ],
   "source": [
    "# Predict sentiment labels for the test data\n",
    "y_pred = model.predict(X_test)\n",
    "\n",
    "# Calculate accuracy and display a classification report\n",
    "print(\"Accuracy:\", accuracy_score(y_test, y_pred))\n",
    "print(\"Classification Report:\\n\", classification_report(y_test, y_pred))"
   ]
  }
 ],
 "metadata": {
  "kernelspec": {
   "display_name": "Python 3",
   "language": "python",
   "name": "python3"
  },
  "language_info": {
   "codemirror_mode": {
    "name": "ipython",
    "version": 3
   },
   "file_extension": ".py",
   "mimetype": "text/x-python",
   "name": "python",
   "nbconvert_exporter": "python",
   "pygments_lexer": "ipython3",
   "version": "3.8.10"
  }
 },
 "nbformat": 4,
 "nbformat_minor": 5
}
